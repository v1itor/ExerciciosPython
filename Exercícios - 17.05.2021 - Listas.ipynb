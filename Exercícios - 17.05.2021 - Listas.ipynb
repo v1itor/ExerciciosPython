{
  "nbformat": 4,
  "nbformat_minor": 0,
  "metadata": {
    "colab": {
      "name": "Untitled3.ipynb",
      "provenance": [],
      "authorship_tag": "ABX9TyMtDOZC4pjTC7RvBglz1c/s"
    },
    "kernelspec": {
      "name": "python3",
      "display_name": "Python 3"
    },
    "language_info": {
      "name": "python"
    }
  },
  "cells": [
    {
      "cell_type": "markdown",
      "metadata": {
        "id": "DB9UQUrBUGgH"
      },
      "source": [
        "Exercício 1"
      ]
    },
    {
      "cell_type": "code",
      "metadata": {
        "id": "L_DQB-VzTsXz"
      },
      "source": [
        "lista = list(range(100))\n",
        "print(lista)"
      ],
      "execution_count": null,
      "outputs": []
    },
    {
      "cell_type": "markdown",
      "metadata": {
        "id": "9ryKToQ4UI_G"
      },
      "source": [
        "Exercício 2"
      ]
    },
    {
      "cell_type": "code",
      "metadata": {
        "id": "w-CAGi0nUK6F"
      },
      "source": [
        "nota = []\n",
        "for i in range(10):\n",
        "  nota.append(float(input(f\"Insira a nota nº {i+1}: \")))\n",
        "print(f\"A média das notas foi de {sum(nota)/len(nota)}\")"
      ],
      "execution_count": null,
      "outputs": []
    },
    {
      "cell_type": "markdown",
      "metadata": {
        "id": "XYAJmUGxVDjm"
      },
      "source": [
        "Exercício 3"
      ]
    },
    {
      "cell_type": "code",
      "metadata": {
        "id": "mbSX1zx6VG5k"
      },
      "source": [
        "nota = []\n",
        "acima_media = []\n",
        "for i in range(10):\n",
        "  nota.append(float(input(f\"Insira a nota nº {i+1}: \")))\n",
        "  if nota[i]>=7:\n",
        "    acima_media.append(nota[i])\n",
        "print(f\"A média das notas foi de {sum(nota)/len(nota)}, {len(acima_media)} dessas são acima da média 7.\")"
      ],
      "execution_count": null,
      "outputs": []
    },
    {
      "cell_type": "markdown",
      "metadata": {
        "id": "C5U0dEDCV5Km"
      },
      "source": [
        "Exercício 4"
      ]
    },
    {
      "cell_type": "code",
      "metadata": {
        "id": "ecA3w39lV7YW"
      },
      "source": [
        "nota = []\n",
        "abaixo_media = []\n",
        "for i in range(10):\n",
        "  nota.append(float(input(f\"Insira a nota nº {i+1}: \")))\n",
        "  if nota[i] < 7:\n",
        "    abaixo_media.append(nota[i])\n",
        "nota.sort()\n",
        "print(f\"A maior nota foi {nota[9]}, a menor nota foi {nota[0]}, a média foi {sum(nota)/len(nota)} e tiveram {sum(abaixo_media)} notas abaixo da média 7.\")"
      ],
      "execution_count": null,
      "outputs": []
    },
    {
      "cell_type": "markdown",
      "metadata": {
        "id": "d0Ex1KG49DdJ"
      },
      "source": [
        "Exercício 5"
      ]
    },
    {
      "cell_type": "code",
      "metadata": {
        "id": "J3DDFGAe99WL"
      },
      "source": [
        "vetor = list(range(99))\n",
        "vetor[53] = 30\n",
        "posicoes = []\n",
        "for i in range(99):\n",
        "  if vetor[i] ==30:\n",
        "    posicoes.append(i)\n",
        "if len(posicoes)==0:\n",
        "  print(f\"Não há número 30 na lista.\")\n",
        "else:\n",
        "  print(f\"O número 30 na lista está presente na posição {posicoes}.\")"
      ],
      "execution_count": null,
      "outputs": []
    },
    {
      "cell_type": "markdown",
      "metadata": {
        "id": "2O81_WXTOIVb"
      },
      "source": [
        "Exercício 7"
      ]
    },
    {
      "cell_type": "code",
      "metadata": {
        "id": "9KUWZrxyOKMy"
      },
      "source": [
        "vetor = list(range(200))\n",
        "print(f\"A lista no sentindo inverso é {vetor[::-1]}.\")"
      ],
      "execution_count": null,
      "outputs": []
    },
    {
      "cell_type": "markdown",
      "metadata": {
        "id": "BHMxqy4ePy2K"
      },
      "source": [
        "Exercício 8"
      ]
    },
    {
      "cell_type": "code",
      "metadata": {
        "id": "JdUtzqcTPyiL"
      },
      "source": [
        "vetor1 = list(range(10))\n",
        "vetor2 = list(range(10, 20, 1))\n",
        "soma = []\n",
        "for i in range(10):\n",
        "  soma.append(vetor1[i]+vetor2[i])\n",
        "print(f\"Vetor 1: {vetor1}\\nVetor 2: {vetor2}\\nVetor 3: {soma}\")"
      ],
      "execution_count": null,
      "outputs": []
    },
    {
      "cell_type": "markdown",
      "metadata": {
        "id": "4finPbX0RAjf"
      },
      "source": [
        "Exercício 9"
      ]
    },
    {
      "cell_type": "code",
      "metadata": {
        "id": "zmJ9BoIqRD9_"
      },
      "source": [
        "vetor1 = list(range(25))\n",
        "vetor2 = list(range(25, 50, 1))\n",
        "intercalado = []\n",
        "for i in range(25):\n",
        "  intercalado.append(vetor1[i])\n",
        "  intercalado.append(vetor2[i])\n",
        "print(f\"A lista intercalada é igual a {intercalado}.\")"
      ],
      "execution_count": null,
      "outputs": []
    },
    {
      "cell_type": "markdown",
      "metadata": {
        "id": "QA8XBO468Sdt"
      },
      "source": [
        "Exercício 13"
      ]
    },
    {
      "cell_type": "code",
      "metadata": {
        "id": "ev02F-WD8UVV"
      },
      "source": [
        "frase = list(\"eu sei programar em python, ou talvez eu não saiba\")\n",
        "a = []\n",
        "branco = []\n",
        "for i in range(len(frase)):\n",
        "  if frase[i] == \"a\":\n",
        "    a.append(frase[i])\n",
        "  elif frase[i]==\" \":\n",
        "    branco.append(frase[i])\n",
        "print(f'A quantidade de espaços em branco na frase é igual a {len(branco)}, já a quantidade de \"A\" na frase igual a {len(a)}.')"
      ],
      "execution_count": null,
      "outputs": []
    },
    {
      "cell_type": "markdown",
      "metadata": {
        "id": "T_no9fD-SNKl"
      },
      "source": [
        "Exercício 15"
      ]
    },
    {
      "cell_type": "code",
      "metadata": {
        "id": "cqXg1f5dSPPM"
      },
      "source": [
        "vet = [200, 11, 23, 64, 32, 99, 162, 192, 70, 60, 188, 152, 153, 149, 106, 114, 197, 74, 30, 131]\n",
        "vet.sort()\n",
        "print(f\"A lista ordenada fica: {vet}\")"
      ],
      "execution_count": null,
      "outputs": []
    }
  ]
}