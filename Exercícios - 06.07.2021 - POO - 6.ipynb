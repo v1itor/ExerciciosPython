{
  "nbformat": 4,
  "nbformat_minor": 0,
  "metadata": {
    "colab": {
      "name": "VitorValentin_3info1.ipynb",
      "provenance": []
    },
    "kernelspec": {
      "name": "python3",
      "display_name": "Python 3"
    },
    "language_info": {
      "name": "python"
    }
  },
  "cells": [
    {
      "cell_type": "code",
      "metadata": {
        "colab": {
          "base_uri": "https://localhost:8080/"
        },
        "id": "vz65oGeM-hqf",
        "outputId": "eaa9530d-9b04-45b0-d48c-7bdac5fa0374"
      },
      "source": [
        "class Usuario():\n",
        "  _nomeUsuario = \"\"\n",
        "  def setNomeUsuario (self, nomeUsuario):\n",
        "    self._nomeUsuario = nomeUsuario\n",
        "  def getNomeUsuario (self):\n",
        "    return self._nomeUsuario\n",
        "  \n",
        "class Admin (Usuario):\n",
        "  def escrevanome (self):\n",
        "    return \"Admin \"\n",
        "  def digaola(self):\n",
        "    return \"Olá Admin, \" + self.getNomeUsuario()\n",
        "\n",
        "adminl = Admin()\n",
        "adminl.setNomeUsuario(\"Baltazar\")\n",
        "print(adminl.digaola())"
      ],
      "execution_count": 3,
      "outputs": [
        {
          "output_type": "stream",
          "text": [
            "Olá Admin, Baltazar\n"
          ],
          "name": "stdout"
        }
      ]
    }
  ]
}