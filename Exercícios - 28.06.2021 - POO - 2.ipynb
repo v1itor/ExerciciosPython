{
  "nbformat": 4,
  "nbformat_minor": 0,
  "metadata": {
    "colab": {
      "name": "Vitor.ipynb",
      "provenance": []
    },
    "kernelspec": {
      "name": "python3",
      "display_name": "Python 3"
    },
    "language_info": {
      "name": "python"
    }
  },
  "cells": [
    {
      "cell_type": "code",
      "metadata": {
        "colab": {
          "base_uri": "https://localhost:8080/"
        },
        "id": "VuVIPW1-81jk",
        "outputId": "f86169db-45fb-42b2-dba4-f87637db045d"
      },
      "source": [
        "class Usuario():\n",
        "  __primeiroNome = \"N/D\"\n",
        "  __ultimoNome = \"N/D\"\n",
        "\n",
        "  def __init__(self, primeiroNome, ultimoNome):\n",
        "    self.__primeiroNome = primeiroNome\n",
        "    self.__ultimoNome = ultimoNome\n",
        "\n",
        "  def getNomeCompleto(self):\n",
        "    return print(f\"O nome é {self.__primeiroNome} {self.__ultimoNome}\")\n",
        "\n",
        "usuario1 = Usuario(\"Vitor\", \"Valentin de Oliveira\")\n",
        "usuario2 = Usuario(\"Johnny\", \"Bravo\")\n",
        "\n",
        "usuario1.getNomeCompleto()\n",
        "usuario2.getNomeCompleto()"
      ],
      "execution_count": 1,
      "outputs": [
        {
          "output_type": "stream",
          "text": [
            "O nome é Vitor Valentin de Oliveira\n",
            "O nome é Johnny Bravo\n"
          ],
          "name": "stdout"
        }
      ]
    }
  ]
}