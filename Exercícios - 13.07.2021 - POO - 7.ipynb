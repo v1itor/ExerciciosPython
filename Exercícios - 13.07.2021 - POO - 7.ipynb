{
  "nbformat": 4,
  "nbformat_minor": 0,
  "metadata": {
    "colab": {
      "name": "Untitled8.ipynb",
      "provenance": [],
      "authorship_tag": "ABX9TyOlx+M3+GlIB17V97QDHe77"
    },
    "kernelspec": {
      "name": "python3",
      "display_name": "Python 3"
    },
    "language_info": {
      "name": "python"
    }
  },
  "cells": [
    {
      "cell_type": "code",
      "metadata": {
        "colab": {
          "base_uri": "https://localhost:8080/"
        },
        "id": "epqXyO486V33",
        "outputId": "36acbafc-a837-4d83-d1bb-5df0fc77fa53"
      },
      "source": [
        "class Usuario():\n",
        "  numeroDeArtigos = 0\n",
        "\n",
        "  def setNumeroDeArtigos(self, nart):\n",
        "    self.numeroDeArtigos = int(nart)\n",
        "    \n",
        "  def getNumeroDeArtigos(self):\n",
        "    return self.numeroDeArtigos\n",
        "\n",
        "class Autor(Usuario):\n",
        "  def calcularPontuacao(self):\n",
        "    return self.numeroDeArtigos * 10 + 20\n",
        "\n",
        "class Editor(Usuario):\n",
        "  def calcularPontuacao(self):\n",
        "    return self.numeroDeArtigos * 6 + 15\n",
        "\n",
        "autor1 = Autor()\n",
        "autor1.setNumeroDeArtigos(8)\n",
        "print(\"O autor obteve um total de \", autor1.calcularPontuacao(), \" pontos\")\n",
        "\n",
        "editor1 = Editor()\n",
        "editor1.setNumeroDeArtigos(8)\n",
        "print(\"O editor obteve um total de \", editor1.calcularPontuacao(), \" pontos\")\n",
        "\n"
      ],
      "execution_count": 1,
      "outputs": [
        {
          "output_type": "stream",
          "text": [
            "O autor obteve um total de  100  pontos\n",
            "O editor obteve um total de  63  pontos\n"
          ],
          "name": "stdout"
        }
      ]
    }
  ]
}