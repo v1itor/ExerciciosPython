{
  "nbformat": 4,
  "nbformat_minor": 0,
  "metadata": {
    "colab": {
      "name": "Untitled4.ipynb",
      "provenance": [],
      "authorship_tag": "ABX9TyMc24sh786KH2d4Y27rOZjP"
    },
    "kernelspec": {
      "name": "python3",
      "display_name": "Python 3"
    },
    "language_info": {
      "name": "python"
    }
  },
  "cells": [
    {
      "cell_type": "markdown",
      "metadata": {
        "id": "rN7sDjX3MBAn"
      },
      "source": [
        "Exercício 1"
      ]
    },
    {
      "cell_type": "code",
      "metadata": {
        "id": "6imlYoMuJ9H0"
      },
      "source": [
        "def fah_to_celsius(F):\n",
        "  return (F - 32) * 5/9\n",
        "print(fah_to_celsius(float(input(\"Defina a temperatura pra ser convertida pra Celsius: \"))))"
      ],
      "execution_count": null,
      "outputs": []
    },
    {
      "cell_type": "markdown",
      "metadata": {
        "id": "qApOlO60J421"
      },
      "source": [
        "Exercício 2"
      ]
    },
    {
      "cell_type": "code",
      "metadata": {
        "id": "jnikEfAiGZv8"
      },
      "source": [
        "def hip(cat1, cat2):\n",
        "  resultado = (cat1**2 + cat2**2)**0.5\n",
        "  return resultado\n",
        "print(\"A hipotenusa é igual a:\", hip(float(input(\"Defina o cateto 1: \")), float(input(\"defina o cateto 2: \"))))"
      ],
      "execution_count": null,
      "outputs": []
    },
    {
      "cell_type": "markdown",
      "metadata": {
        "id": "DLu_OhI4MK6z"
      },
      "source": [
        "Exercício 3"
      ]
    },
    {
      "cell_type": "code",
      "metadata": {
        "id": "6G-LfeOgMMUS"
      },
      "source": [
        "def msg_nota(nota1, nota2):\n",
        "  soma = [nota1, nota2]\n",
        "  media = sum(soma)/len(soma)\n",
        "  if media> 6:\n",
        "    return \"PARABÉNS! Você foi aprovado!\"\n",
        "  else:\n",
        "    return \"\"\n",
        "print(msg_nota(float(input(\"Insira a nota 1: \")), float(input(\"Insira a nota 2: \"))))"
      ],
      "execution_count": null,
      "outputs": []
    },
    {
      "cell_type": "markdown",
      "metadata": {
        "id": "uSbs1K9WOmYZ"
      },
      "source": [
        "Exercício 4"
      ]
    },
    {
      "cell_type": "code",
      "metadata": {
        "id": "e7L5_8JVN02Y"
      },
      "source": [
        "def peso_ideal(altura, sexo):\n",
        "  if sexo == 1:\n",
        "    ideal = (72.7 * altura) - 58\n",
        "  else:\n",
        "    ideal = (62.1 * altura)-44.7\n",
        "  return ideal\n",
        "print(\"Seu peso ideal seria igual a:\", peso_ideal(float(input(\"Insira sua altura: \")), float(input(\"Insira seu sexo da seguinte forma:\\n\\nInsira 1 p/ homem\\nInsira 0 p/ mulher\\n\\n\"))))"
      ],
      "execution_count": null,
      "outputs": []
    },
    {
      "cell_type": "markdown",
      "metadata": {
        "id": "_V7ka40NRjUb"
      },
      "source": [
        "Exercício 5"
      ]
    },
    {
      "cell_type": "code",
      "metadata": {
        "id": "02mip3UPRlG2"
      },
      "source": [
        "def calc_medidas(qntd):\n",
        "  medidas= []\n",
        "  for i in range(qntd):\n",
        "    medidas.append(float(input(f\"Insira a medida do lado {i+1} de sua fígura\")))\n",
        "  return medidas\n",
        "def numero_lados(qntd):\n",
        "  if qntd == 3:\n",
        "    return \"Triângulo\", f\"e o seu perímetro é {(sum(calc_medidas(qntd)))}\"\n",
        "  elif qntd == 4:\n",
        "    return [\"Quadrado\", f\"e a sua área é {(sum(calc_medidas(1))**2)}\"]\n",
        "  elif qntd ==5:\n",
        "    return [\"Pentágono\", \"\"]\n",
        "  else:\n",
        "    return [\"polígono incompatível\", \"\"]\n",
        "resultado = numero_lados(int(input('Qual é o número de lados da sua figura? ')))\n",
        "print(f\"A sua figura é um {resultado[0]} {resultado[1]}.\")"
      ],
      "execution_count": null,
      "outputs": []
    },
    {
      "cell_type": "markdown",
      "metadata": {
        "id": "8KeT4Mjuhg6c"
      },
      "source": [
        "Exercício 6"
      ]
    },
    {
      "cell_type": "code",
      "metadata": {
        "id": "bVeT8H-chi6Q"
      },
      "source": [
        "def sum_range(n1, n2):\n",
        "  resultado = 0\n",
        "  for i in range(n1+1, n2):\n",
        "    resultado+=i\n",
        "  return resultado\n",
        "print(f\"O resultado é {sum_range(int(input('Insira o número 1: ')), (int(input('Insira o número 2: '))))}.\")"
      ],
      "execution_count": null,
      "outputs": []
    }
  ]
}