{
  "nbformat": 4,
  "nbformat_minor": 0,
  "metadata": {
    "colab": {
      "name": "Untitled0.ipynb",
      "provenance": [],
      "authorship_tag": "ABX9TyM0bKTSLvZASazQ+KK6HWUd"
    },
    "kernelspec": {
      "name": "python3",
      "display_name": "Python 3"
    },
    "language_info": {
      "name": "python"
    }
  },
  "cells": [
    {
      "cell_type": "markdown",
      "metadata": {
        "id": "gm-j07fRnWHw"
      },
      "source": [
        "Exercício 1"
      ]
    },
    {
      "cell_type": "code",
      "metadata": {
        "id": "MYzdYVhPrcAA"
      },
      "source": [
        "a = float(input(\"Insira a medida do lado A do triângulo (em  centímetros): \"))\n",
        "b = float(input(\"Insira a medida do lado B do triângulo (em  centímetros): \"))\n",
        "c = float(input(\"Insira a medida do lado C do triângulo (em  centímetros): \"))\n",
        "if (a == b) and (c == a) :\n",
        "  print('O triângulo é equilátero')\n",
        "elif (a==b) or (a==c) or (b==c):\n",
        "  print('O triângulo é isósceles')\n",
        "else:\n",
        "  print('O triângulo é escaleno')"
      ],
      "execution_count": null,
      "outputs": []
    },
    {
      "cell_type": "markdown",
      "metadata": {
        "id": "2XDYSBB2ngD-"
      },
      "source": [
        "Exercício 2"
      ]
    },
    {
      "cell_type": "code",
      "metadata": {
        "id": "5Mxy_bkV8eLC"
      },
      "source": [
        "ano = float(input(\"Insira o ano: \"))\n",
        "\n",
        "if ano % 4 != 0:\n",
        "  print (\"O ano não é um ano bissexto (tem 365 dias).\");\n",
        "elif ano % 100 != 0:\n",
        "  print(\"O ano é bissexto (tem 366 dias).\");\n",
        "elif ano % 400 != 0:\n",
        "  print (\"O ano não é um ano bissexto (tem 365 dias).\");\n",
        "else:\n",
        "  print(\"O ano é bissexto (tem 366 dias).\");"
      ],
      "execution_count": null,
      "outputs": []
    },
    {
      "cell_type": "markdown",
      "metadata": {
        "id": "p6Er64LPnjYw"
      },
      "source": [
        "Exercício 3"
      ]
    },
    {
      "cell_type": "code",
      "metadata": {
        "id": "0B-AQrs7nilw"
      },
      "source": [
        "massa = float(input(\"Insira a massa dos peixes (em kilogramas): \"))\n",
        "\n",
        "if massa > 50:\n",
        "  print(f\"Peso excedente, sua multa terá o valor de R${(massa - 50)*4:.2f}.\");\n",
        "else:\n",
        "  print(\"Peso permitido, sem multas.\")"
      ],
      "execution_count": null,
      "outputs": []
    },
    {
      "cell_type": "markdown",
      "metadata": {
        "id": "NgClklnon082"
      },
      "source": [
        "Exercício 4"
      ]
    },
    {
      "cell_type": "code",
      "metadata": {
        "id": "gC3Z59YFn0hH"
      },
      "source": [
        "numero1 = float(input(\"Insira o primeiro número: \"))\n",
        "numero2 = float(input(\"Insira o segundo número: \"))\n",
        "numero3 = float(input(\"Insira o terceiro número: \"))\n",
        "\n",
        "if numero1 > numero2 and numero1 > numero3:\n",
        "  print(f\"O maior numero é o primeiro, que tem {numero1} como valor\");\n",
        "elif numero2 > numero3:\n",
        "  print(f\"O maior numero é o segundo, que tem {numero2} como valor.\");\n",
        "else: \n",
        "  print(f\"O maior numero é o terceiro, que tem {numero3} como valor.\")"
      ],
      "execution_count": null,
      "outputs": []
    },
    {
      "cell_type": "markdown",
      "metadata": {
        "id": "DxbtxaTCpo5w"
      },
      "source": [
        "Exercício 5"
      ]
    },
    {
      "cell_type": "code",
      "metadata": {
        "id": "83z4frzuqSkl"
      },
      "source": [
        "numero1 = float(input(\"Qual é seu primeiro numero?: \"))\n",
        "numero2 = float(input(\"Qual é seu segundo numero?: \"))\n",
        "numero3 = float(input(\"Qual é seu terceiro numero?: \"))\n",
        "\n",
        "if numero1 > numero2 and numero1 > numero3:\n",
        "  print(f\"O maior numero é o primeiro, que tem como valor {numero1}\")\n",
        "elif numero2 > numero3:\n",
        "  print(f\"O maior numero é o segundo, que tem como valor {numero2}\")\n",
        "else: \n",
        "  print(f\"O maior numero é o terceiro, que tem como valor {numero3}\")\n",
        "\n",
        "if numero1 < numero2 and numero1 < numero3:\n",
        "  print(f\"O menor numero é o primeiro, que tem como valor {numero1}\")\n",
        "elif numero2 < numero3:\n",
        "  print(f\"O menor  numero é o segundo, que tem como valor {numero2}\")\n",
        "else: \n",
        "  print(f\"O menor  numero é o terceiro, que tem como valor {numero3}\")"
      ],
      "execution_count": null,
      "outputs": []
    }
  ]
}