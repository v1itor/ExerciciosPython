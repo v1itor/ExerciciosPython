{
  "nbformat": 4,
  "nbformat_minor": 0,
  "metadata": {
    "colab": {
      "name": "Vitor Valentin - POO 4.ipynb",
      "provenance": []
    },
    "kernelspec": {
      "name": "python3",
      "display_name": "Python 3"
    },
    "language_info": {
      "name": "python"
    }
  },
  "cells": [
    {
      "cell_type": "markdown",
      "metadata": {
        "id": "H8rr8Y0PIriH"
      },
      "source": [
        "1 - D"
      ]
    },
    {
      "cell_type": "code",
      "metadata": {
        "colab": {
          "base_uri": "https://localhost:8080/"
        },
        "id": "YcI0PFiTHkT0",
        "outputId": "9591c955-3a15-483b-b8dc-fcedd7dbfa2c"
      },
      "source": [
        "class Usuario:\n",
        "  __primeiroNome = \"\"\n",
        "\n",
        "  def setNome(self, primeiroNome):\n",
        "    self.__primeiroNome = primeiroNome\n",
        "    \n",
        "  def getNome(self):\n",
        "    return self.__primeiroNome\n",
        "  \n",
        "usuario1 = Usuario()\n",
        "usuario1.setNome(\"Joe\")\n",
        "print(usuario1.getNome())"
      ],
      "execution_count": 2,
      "outputs": [
        {
          "output_type": "stream",
          "text": [
            "Joe\n"
          ],
          "name": "stdout"
        }
      ]
    }
  ]
}