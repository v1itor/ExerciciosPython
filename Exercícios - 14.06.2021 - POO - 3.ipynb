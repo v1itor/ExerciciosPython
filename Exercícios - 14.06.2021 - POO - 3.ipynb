{
  "nbformat": 4,
  "nbformat_minor": 0,
  "metadata": {
    "colab": {
      "name": "Untitled7.ipynb",
      "provenance": [],
      "authorship_tag": "ABX9TyMbXixq2CHrWhGThhj/zJB8",
      "include_colab_link": true
    },
    "kernelspec": {
      "name": "python3",
      "display_name": "Python 3"
    },
    "language_info": {
      "name": "python"
    }
  },
  "cells": [
    {
      "cell_type": "markdown",
      "metadata": {
        "id": "view-in-github",
        "colab_type": "text"
      },
      "source": [
        "<a href=\"https://colab.research.google.com/github/v1itor/ExerciciosPython/blob/main/Exerci%CC%81cios%20-%2014.06.2021%20-%20POO%20-%203.ipynb\" target=\"_parent\"><img src=\"https://colab.research.google.com/assets/colab-badge.svg\" alt=\"Open In Colab\"/></a>"
      ]
    },
    {
      "cell_type": "code",
      "metadata": {
        "id": "cGh8KU7tCc7o"
      },
      "source": [
        "class Usuario():\n",
        "  primeiroNome = \"\"\n",
        "\n",
        "  def hello(self):\n",
        "    print(f\"Olá, {self.primeiroNome}.\")\n",
        "    return self\n",
        "\n",
        "  def mail(self):\n",
        "    print(\">> e-mail enviado\")\n",
        "    return self\n",
        "\n",
        "  def registrar(self):\n",
        "    print(\">> registrado\")\n",
        "    return self\n",
        "\n",
        "usuario1 = Usuario()\n",
        "usuario1.primeiroNome = \"Jane\"\n",
        "\n",
        "print(usuario1.hello().registrar().mail())"
      ],
      "execution_count": null,
      "outputs": []
    }
  ]
}