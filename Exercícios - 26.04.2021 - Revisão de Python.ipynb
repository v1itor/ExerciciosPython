{
  "nbformat": 4,
  "nbformat_minor": 0,
  "metadata": {
    "colab": {
      "name": "Untitled",
      "provenance": [],
      "authorship_tag": "ABX9TyM0PIrDqJJyVFe/S34XsAA3",
      "include_colab_link": true
    },
    "kernelspec": {
      "name": "python3",
      "display_name": "Python 3"
    },
    "language_info": {
      "name": "python"
    }
  },
  "cells": [
    {
      "cell_type": "markdown",
      "metadata": {
        "id": "view-in-github",
        "colab_type": "text"
      },
      "source": [
        "<a href=\"https://colab.research.google.com/github/v1itor/ExerciciosPython/blob/main/Notebook.ipynb\" target=\"_parent\"><img src=\"https://colab.research.google.com/assets/colab-badge.svg\" alt=\"Open In Colab\"/></a>"
      ]
    },
    {
      "cell_type": "markdown",
      "metadata": {
        "id": "byZ3v3o508fI"
      },
      "source": [
        "# Exercício 1"
      ]
    },
    {
      "cell_type": "code",
      "metadata": {
        "id": "ZzsEfZC51eG6"
      },
      "source": [
        "a = float(input(\"Insira o primeiro número: \"))\n",
        "b = float(input(\"Insira o segundo número: \"))\n",
        "print(f\"a soma de {a} com {b} tem como resultado {a+b}.\")"
      ],
      "execution_count": null,
      "outputs": []
    },
    {
      "cell_type": "markdown",
      "metadata": {
        "id": "G6pRD6eS1Kk-"
      },
      "source": [
        "# Exercício 2"
      ]
    },
    {
      "cell_type": "code",
      "metadata": {
        "id": "XVUiWENm1iTg"
      },
      "source": [
        "metros = float(input(\"Insira o valor em metros: \"))\n",
        "print(f\"{metros} metros em milímetros equivale a {metros*1000.:4f} milímetros.\")"
      ],
      "execution_count": null,
      "outputs": []
    },
    {
      "cell_type": "markdown",
      "metadata": {
        "id": "qyaHk0gH1Ku6"
      },
      "source": [
        "# Exercício 3"
      ]
    },
    {
      "cell_type": "code",
      "metadata": {
        "id": "X1XBsY021nnN"
      },
      "source": [
        "d = int(input(\"Insira o número de dias: \"))\n",
        "h = int(input(\"Insira o número de horas: \"))\n",
        "m = int(input(\"Insira o número de minutos: \"))\n",
        "s = int(input(\"Insira o número de segundos: \"))\n",
        "print(f\"Você inseriu {d} dias,{h} horas, {m} minutos e {s} segundos, isso da um total de {(d*86400)+(h*3600)+(m*60)+s} segundos.\")\n"
      ],
      "execution_count": null,
      "outputs": []
    },
    {
      "cell_type": "markdown",
      "metadata": {
        "id": "shGkq2IL1Kz4"
      },
      "source": [
        "# Exercício 4"
      ]
    },
    {
      "cell_type": "code",
      "metadata": {
        "id": "4YMepxVS1pFt"
      },
      "source": [
        "salario = float(input(\"Insira o valor do salário do funcionário, em reais: \"))\n",
        "aumento = float(input(\"Insira o aumento necessário, em porcentagem: \"))\n",
        "print(f\"O salário do funcinário, que era de R${salario:.2f}, se tornou R${salario*(1+aumento/100):.2f} depois do aumento de {aumento:.2f}%.\")"
      ],
      "execution_count": null,
      "outputs": []
    },
    {
      "cell_type": "markdown",
      "metadata": {
        "id": "M4Xiq79k1K4l"
      },
      "source": [
        "# Exercício 5"
      ]
    },
    {
      "cell_type": "code",
      "metadata": {
        "id": "sV3PkZ-O1vVd"
      },
      "source": [
        "mercadoria = float(input(\"Insira o valor da mercadoria, em reais: \"))\n",
        "desconto = float(input(\"Insira o desconto aplicado, em porcentagem: \"))\n",
        "print(f\"O valor da mercadoria, que era de R${mercadoria:.2f}, se tornou R${mercadoria-(mercadoria*(desconto/100)):.2f} depois do desconto de {desconto:.2f}%.\")"
      ],
      "execution_count": null,
      "outputs": []
    },
    {
      "cell_type": "markdown",
      "metadata": {
        "id": "BiffuS-21K8U"
      },
      "source": [
        "# Exercício 6"
      ]
    },
    {
      "cell_type": "code",
      "metadata": {
        "id": "VWip5Jx414uF"
      },
      "source": [
        "distancia = float(input(\"Qual é a distância da viagem em quilômetros? \"))\n",
        "velocidade = float(input(\"Qual é a velocidade média da viagem em km/h? \"))\n",
        "print(f\"a viagem de {distancia:.2f}km demorará {distancia/velocidade:.2f} hora(s) se for feita a uma média de {velocidade:.2f}km/h.\")"
      ],
      "execution_count": null,
      "outputs": []
    },
    {
      "cell_type": "markdown",
      "metadata": {
        "id": "lT4mkGZ31K_v"
      },
      "source": [
        "# Exercício 7"
      ]
    },
    {
      "cell_type": "code",
      "metadata": {
        "id": "Xt6ZRG4x18uW"
      },
      "source": [
        "celsius = float(input(\"Insira a temperatura que será convertida, em Celsius: \"))\n",
        "print(f\"A temperatura inserida é igual a {9*celsius/5+32:.5f}º F.\")"
      ],
      "execution_count": null,
      "outputs": []
    },
    {
      "cell_type": "markdown",
      "metadata": {
        "id": "GSSo-nUO1LCz"
      },
      "source": [
        "# Exercício 8"
      ]
    },
    {
      "cell_type": "code",
      "metadata": {
        "id": "e5rPtQec1_zT"
      },
      "source": [
        "Fahrenheit = float(input(\"Insira a temperatura que será convertida, em Fahrenheit: \"))\n",
        "print(f\"A temperatura inserida é igual a {(Fahrenheit-32)*5/9:.5f}º C.\")"
      ],
      "execution_count": null,
      "outputs": []
    },
    {
      "cell_type": "markdown",
      "metadata": {
        "id": "ll0yscaP1Y72"
      },
      "source": [
        "# Exercício 9"
      ]
    },
    {
      "cell_type": "code",
      "metadata": {
        "id": "x302XWKC2DVa"
      },
      "source": [
        "dias = int(input(\"Insira a quantidade de dias no qual o carro foi locado: \"))\n",
        "km = int(input(\"Insira a quantidade de km rodados no período qual o carro foi locado: \"))\n",
        "print(f\"O preço será igual a R${(dias*60)+(0.15*km):.2f}.\")"
      ],
      "execution_count": null,
      "outputs": []
    },
    {
      "cell_type": "markdown",
      "metadata": {
        "id": "hnXsGV2Y1ZJ8"
      },
      "source": [
        "# Exercício 10"
      ]
    },
    {
      "cell_type": "code",
      "metadata": {
        "id": "jq3rNf7F2FxT"
      },
      "source": [
        "anos = int(input(\"Você fuma a quantos anos? \"))\n",
        "cigarros = int(input(\"Você fuma quantos cigarros por dia? \"))\n",
        "print(f\"Você já perdeu {(365*anos*cigarros*10)/1440:.0f} dias da sua vida só por fumar cigarro.\")"
      ],
      "execution_count": null,
      "outputs": []
    },
    {
      "cell_type": "markdown",
      "metadata": {
        "id": "ikEUFNHN1ZUL"
      },
      "source": [
        "# Exercício 11\n"
      ]
    },
    {
      "cell_type": "code",
      "metadata": {
        "id": "IAKVl4FY2Htp"
      },
      "source": [
        "print(f\"Em 2 elevado a um milhão, temos {len(str(2**1000000))} dígitos\")"
      ],
      "execution_count": null,
      "outputs": []
    }
  ]
}