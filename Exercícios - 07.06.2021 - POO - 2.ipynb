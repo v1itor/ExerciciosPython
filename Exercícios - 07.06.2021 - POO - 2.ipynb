{
  "nbformat": 4,
  "nbformat_minor": 0,
  "metadata": {
    "colab": {
      "name": "Untitled6.ipynb",
      "provenance": [],
      "authorship_tag": "ABX9TyOcFvjwdN5iNG7AF8rGYq6+",
      "include_colab_link": true
    },
    "kernelspec": {
      "name": "python3",
      "display_name": "Python 3"
    },
    "language_info": {
      "name": "python"
    }
  },
  "cells": [
    {
      "cell_type": "markdown",
      "metadata": {
        "id": "view-in-github",
        "colab_type": "text"
      },
      "source": [
        "<a href=\"https://colab.research.google.com/github/v1itor/ExerciciosPython/blob/main/Exerci%CC%81cios%20-%2007.06.2021%20-%20POO%20-%202.ipynb\" target=\"_parent\"><img src=\"https://colab.research.google.com/assets/colab-badge.svg\" alt=\"Open In Colab\"/></a>"
      ]
    },
    {
      "cell_type": "markdown",
      "metadata": {
        "id": "_o9cDO9IuXLw"
      },
      "source": [
        "1 - c) A palavra self"
      ]
    },
    {
      "cell_type": "code",
      "metadata": {
        "colab": {
          "base_uri": "https://localhost:8080/"
        },
        "id": "sViQ1BoJthhA",
        "outputId": "5b3489fd-2f33-4db0-ee90-e724ec1d2a4c"
      },
      "source": [
        "# exercicio 2\n",
        "class Usuario():\n",
        "  primeiroNome=\"Vitor\"\n",
        "  ultimoNome=\"Valentin\"\n",
        "\n",
        "  def hello(self):\n",
        "    return f\"Olá {self.primeiroNome}\"\n",
        "\n",
        "print(Usuario().hello())\n",
        "\n",
        "# exercicio 3 e 4\n",
        "class Usuario():\n",
        "  primeiroNome=\"Vitor\"\n",
        "  ultimoNome=\"Valentin\"\n",
        "\n",
        "  def hello(self):\n",
        "    return f\"Olá {self.primeiroNome}\"\n",
        "\n",
        "  usuario1=Usuario()\n",
        "  usuario1.primeiroNome=\"Jonnie\"\n",
        "  usuario1.ultimoNome=\"Jonnie\"\n",
        "\n",
        "print(usuario1.hello())"
      ],
      "execution_count": 26,
      "outputs": [
        {
          "output_type": "stream",
          "text": [
            "Olá Vitor\n",
            "Olá Jonnie\n"
          ],
          "name": "stdout"
        }
      ]
    }
  ]
}