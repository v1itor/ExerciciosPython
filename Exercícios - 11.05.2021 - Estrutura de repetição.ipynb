{
  "nbformat": 4,
  "nbformat_minor": 0,
  "metadata": {
    "colab": {
      "name": "Untitled2.ipynb",
      "provenance": [],
      "authorship_tag": "ABX9TyMR58DNu4dLlqVcQ3dm2zsO"
    },
    "kernelspec": {
      "name": "python3",
      "display_name": "Python 3"
    },
    "language_info": {
      "name": "python"
    }
  },
  "cells": [
    {
      "cell_type": "markdown",
      "metadata": {
        "id": "hO9FFcBTaJyk"
      },
      "source": [
        "Exercício 1"
      ]
    },
    {
      "cell_type": "code",
      "metadata": {
        "id": "i-4qpCwHaFfJ"
      },
      "source": [
        "i = []\n",
        "pos = []\n",
        "neg = []\n",
        "for item in range(20):\n",
        "    i.append(float(input(\"Olá, digite o seu número aqui: \")))\n",
        "    if i[item]>=0:\n",
        "        pos.append(i[item])\n",
        "    else:\n",
        "        neg.append(i[item])\n",
        "print(f\"Os números negativos são: {neg}.\\nOs números positivos são: {pos}\\nA média dos positivos é igual a {sum(pos)/len(pos)}.\")"
      ],
      "execution_count": null,
      "outputs": []
    },
    {
      "cell_type": "markdown",
      "metadata": {
        "id": "9JUB0d3PbSqM"
      },
      "source": [
        "Exercício 2"
      ]
    },
    {
      "cell_type": "code",
      "metadata": {
        "id": "R_sf0qD1aipT"
      },
      "source": [
        "for item in range(15):\n",
        "    item = int(input(\"Digite o número aqui: \"))\n",
        "    if item %2 == 0:\n",
        "        print(f\"O núemro {item} é par\")\n",
        "    else:\n",
        "        print(f\"O número {item} é impar.\")"
      ],
      "execution_count": null,
      "outputs": []
    },
    {
      "cell_type": "markdown",
      "metadata": {
        "id": "XxNyrLlmzwir"
      },
      "source": [
        "Exercício 3"
      ]
    },
    {
      "cell_type": "code",
      "metadata": {
        "id": "Mm0zpSCVbUZ0"
      },
      "source": [
        "i = [1]\n",
        "menor = 0\n",
        "maior = 0\n",
        "for item in i:\n",
        "    item = int(input(\"\\nInsira o número aqui: \"))\n",
        "    if item > 0:\n",
        "      i.append(item)\n",
        "      if menor == 0:\n",
        "        menor = item\n",
        "        print (f\"\\nMenor número definido: {menor}\")\n",
        "      else:\n",
        "        if item < menor:\n",
        "          menor = item\n",
        "          print (f\"\\nMenor número definido: {menor}\")\n",
        "      if item > maior:\n",
        "        maior = item\n",
        "        print(f\"\\nMaior número definido: {maior}\")\n",
        "    else:\n",
        "      break"
      ],
      "execution_count": null,
      "outputs": []
    },
    {
      "cell_type": "markdown",
      "metadata": {
        "id": "T7iZKnmEz5yN"
      },
      "source": [
        "Exercício 4"
      ]
    },
    {
      "cell_type": "code",
      "metadata": {
        "id": "QpGa6fz60A5z"
      },
      "source": [
        "pos =0\n",
        "neg =0\n",
        "for i in range(101):\n",
        "  if i % 2 == 0:\n",
        "    pos +=i\n",
        "  else:\n",
        "    neg+=i\n",
        "print(f\"A soma dos positivos é igual a {pos} e a soma dos negativos é igual a {neg}.\")"
      ],
      "execution_count": null,
      "outputs": []
    },
    {
      "cell_type": "markdown",
      "metadata": {
        "id": "l6D0z_ij2y2W"
      },
      "source": [
        "Exercício 5"
      ]
    },
    {
      "cell_type": "code",
      "metadata": {
        "id": "MRTDlkuf2leD"
      },
      "source": [
        "alturas = []\n",
        "for pessoas in range(20):\n",
        "  alturas.append(float(input(\"Insira a altura aqui: \")))\n",
        "print(f\"A média aritmética da altura das pessoas é igual a {sum(alturas)/len(alturas)}.\")"
      ],
      "execution_count": null,
      "outputs": []
    },
    {
      "cell_type": "markdown",
      "metadata": {
        "id": "YX9i5BKQ4AbP"
      },
      "source": [
        "Exercício 6"
      ]
    },
    {
      "cell_type": "code",
      "metadata": {
        "id": "TVeKCk274CW0"
      },
      "source": [
        "n = int(input(\"Insira a quantidade de números que serão lidos: \"))\n",
        "neg = []\n",
        "for i in range(n):\n",
        "  i = float(input(\"Insira o número: \"))\n",
        "  if i %2 != 0:\n",
        "     neg.append(i)\n",
        "print(f\"Os números negativos são {neg}.\")"
      ],
      "execution_count": null,
      "outputs": []
    },
    {
      "cell_type": "markdown",
      "metadata": {
        "id": "vGveUBY2Nbdk"
      },
      "source": [
        "Exercício 11"
      ]
    },
    {
      "cell_type": "code",
      "metadata": {
        "id": "0lNlvwp1NdOb"
      },
      "source": [
        "total = 0\n",
        "for num in range(1, 101):\n",
        "  total = total + num\n",
        "print(total)"
      ],
      "execution_count": null,
      "outputs": []
    }
  ]
}