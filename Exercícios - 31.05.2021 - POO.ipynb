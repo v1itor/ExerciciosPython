{
  "nbformat": 4,
  "nbformat_minor": 0,
  "metadata": {
    "colab": {
      "name": "Untitled5.ipynb",
      "provenance": [],
      "authorship_tag": "ABX9TyNTo/xzX4mcjQaylF5AQLRU",
      "include_colab_link": true
    },
    "kernelspec": {
      "name": "python3",
      "display_name": "Python 3"
    },
    "language_info": {
      "name": "python"
    }
  },
  "cells": [
    {
      "cell_type": "markdown",
      "metadata": {
        "id": "view-in-github",
        "colab_type": "text"
      },
      "source": [
        "<a href=\"https://colab.research.google.com/github/v1itor/ExerciciosPython/blob/main/Exerci%CC%81cios%20-%2031.05.2021%20-%20POO.ipynb\" target=\"_parent\"><img src=\"https://colab.research.google.com/assets/colab-badge.svg\" alt=\"Open In Colab\"/></a>"
      ]
    },
    {
      "cell_type": "markdown",
      "metadata": {
        "id": "iWrrrb_93gY6"
      },
      "source": [
        "Exercício 1 - Resposta: a) Uma coleção de variáveis e funções trabalhando com essas variáveis."
      ]
    },
    {
      "cell_type": "markdown",
      "metadata": {
        "id": "CpSfPz023mwH"
      },
      "source": [
        "Exercício 2 - Resposta: a) Um objeto nos dá a capacidade de trabalhar com a classe e ter várias instâncias desta mesma classe."
      ]
    },
    {
      "cell_type": "markdown",
      "metadata": {
        "id": "6MCAJuM23zU4"
      },
      "source": [
        "Exercício 3 - Resposta: b) Uma variável dentro de uma classe."
      ]
    },
    {
      "cell_type": "markdown",
      "metadata": {
        "id": "Tiao1Ts53-rH"
      },
      "source": [
        "Exercício 4 - Resposta: a) Uma função dentro de uma classe."
      ]
    },
    {
      "cell_type": "markdown",
      "metadata": {
        "id": "8dDHsvyy5Ikn"
      },
      "source": [
        "Nome da classe: Usuario\n",
        "---\n",
        "Propriedades: nome , sobrenome\n",
        "---\n",
        "Método: ola\n",
        "---"
      ]
    },
    {
      "cell_type": "code",
      "metadata": {
        "colab": {
          "base_uri": "https://localhost:8080/"
        },
        "id": "uPv_HZqE3O2R",
        "outputId": "0e9ca696-3705-44d2-d351-02c3039e4230"
      },
      "source": [
        "class Usuario:\n",
        "  nome: \"\"\n",
        "  sobrenome:\"\"\n",
        "\n",
        "  def olaUsuario1(self):\n",
        "    return(f\"Olá, {usuario1.nome} {usuario1.sobrenome}\")\n",
        "  \n",
        "  def olaUsuario2(self):\n",
        "    return(f\"Olá, {usuario2.nome} {usuario2.sobrenome}\")\n",
        "\n",
        "\n",
        "usuario1 = Usuario()\n",
        "usuario2 = Usuario()\n",
        "  \n",
        "usuario1.nome = \"Vitor\"\n",
        "usuario1.sobrenome = \"Valentin\"\n",
        "usuario2.nome = \"Jane\"\n",
        "usuario2.sobrenome = \"Silva\"\n",
        "  \n",
        "print(usuario1.nome, usuario1.sobrenome)\n",
        "print(Usuario().olaUsuario1())\n",
        "print(Usuario().olaUsuario2())"
      ],
      "execution_count": 27,
      "outputs": [
        {
          "output_type": "stream",
          "text": [
            "Vitor Valentin\n",
            "Olá, Vitor Valentin\n",
            "Olá, Jane Silva\n"
          ],
          "name": "stdout"
        }
      ]
    }
  ]
}